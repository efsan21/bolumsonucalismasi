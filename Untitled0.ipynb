{
  "nbformat": 4,
  "nbformat_minor": 0,
  "metadata": {
    "colab": {
      "provenance": [],
      "authorship_tag": "ABX9TyNBDArXkDBuYPm7BTFhIV81",
      "include_colab_link": true
    },
    "kernelspec": {
      "name": "python3",
      "display_name": "Python 3"
    },
    "language_info": {
      "name": "python"
    }
  },
  "cells": [
    {
      "cell_type": "markdown",
      "metadata": {
        "id": "view-in-github",
        "colab_type": "text"
      },
      "source": [
        "<a href=\"https://colab.research.google.com/github/efsan21/bolumsonucalismasi/blob/main/Untitled0.ipynb\" target=\"_parent\"><img src=\"https://colab.research.google.com/assets/colab-badge.svg\" alt=\"Open In Colab\"/></a>"
      ]
    },
    {
      "cell_type": "code",
      "execution_count": 1,
      "metadata": {
        "id": "g0Qqrrg4_1sZ"
      },
      "outputs": [],
      "source": [
        "points = [(1, 2), (3, 4), (5, 6), (7, 8), (9, 10)]"
      ]
    },
    {
      "cell_type": "code",
      "source": [
        "import math\n",
        "\n",
        "def euclideanDistance(point1, point2):\n",
        "    return math.sqrt((point1[0] - point2[0]) ** 2 + (point1[1] - point2[1]) ** 2)\n",
        "\n",
        "points = [(1, 2), (3, 4), (5, 6), (7, 8), (9, 10)]\n",
        "\n",
        "distances = []\n",
        "\n",
        "for i in range(len(points)):\n",
        "  for j in range(i + 1, len(points)):\n",
        "    distance = euclideanDistance(points[i], points[j])\n",
        "    distances.append(distance)\n",
        "\n",
        "print(distances)"
      ],
      "metadata": {
        "colab": {
          "base_uri": "https://localhost:8080/"
        },
        "id": "VEKATB5vBWRn",
        "outputId": "153a355c-186e-4c08-a299-127010b8a1ee"
      },
      "execution_count": 3,
      "outputs": [
        {
          "output_type": "stream",
          "name": "stdout",
          "text": [
            "[2.8284271247461903, 5.656854249492381, 8.48528137423857, 11.313708498984761, 2.8284271247461903, 5.656854249492381, 8.48528137423857, 2.8284271247461903, 5.656854249492381, 2.8284271247461903]\n"
          ]
        }
      ]
    }
  ]
}